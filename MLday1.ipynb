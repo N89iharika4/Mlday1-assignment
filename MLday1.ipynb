{
  "nbformat": 4,
  "nbformat_minor": 0,
  "metadata": {
    "colab": {
      "name": "MLday1.ipynb",
      "private_outputs": true,
      "provenance": []
    },
    "kernelspec": {
      "name": "python3",
      "display_name": "Python 3"
    },
    "language_info": {
      "name": "python"
    }
  },
  "cells": [
    {
      "cell_type": "code",
      "execution_count": null,
      "metadata": {
        "id": "makP-mJLk4cn"
      },
      "outputs": [],
      "source": [
        "import numpy as np\n",
        "from array import*"
      ]
    },
    {
      "cell_type": "markdown",
      "source": [
        "1. Creating array of integers between -10 to 10."
      ],
      "metadata": {
        "id": "QC94IC5rpH85"
      }
    },
    {
      "cell_type": "code",
      "source": [
        "a=np.array(range(-10,11))\n",
        "a"
      ],
      "metadata": {
        "id": "P2Cp7iIKlAjP"
      },
      "execution_count": null,
      "outputs": []
    },
    {
      "cell_type": "code",
      "source": [
        "D=np.array(range(18))+3\n",
        "D"
      ],
      "metadata": {
        "id": "ZrLuiEvSle1G"
      },
      "execution_count": null,
      "outputs": []
    },
    {
      "cell_type": "code",
      "source": [
        "D.shape"
      ],
      "metadata": {
        "id": "h7TIU6VSl4aW"
      },
      "execution_count": null,
      "outputs": []
    },
    {
      "cell_type": "markdown",
      "source": [
        "2. a)Extracting every other value from array D starting from the 2nd value through the 10th value"
      ],
      "metadata": {
        "id": "ZI8whgLcoyhi"
      }
    },
    {
      "cell_type": "code",
      "source": [
        "x=D[2:11]\n",
        "x"
      ],
      "metadata": {
        "id": "B_ePijcTm1Bq"
      },
      "execution_count": null,
      "outputs": []
    },
    {
      "cell_type": "markdown",
      "source": [
        "b) Extracting every other value from array D starting from the 10th value through the 2nd value"
      ],
      "metadata": {
        "id": "twp6bMdgqKSF"
      }
    },
    {
      "cell_type": "code",
      "source": [
        "y=D[10:1:-1]\n",
        "y"
      ],
      "metadata": {
        "id": "2iOhzYrJpQvs"
      },
      "execution_count": null,
      "outputs": []
    },
    {
      "cell_type": "markdown",
      "source": [
        "c) Created a variable z that contains all the values in D in reverse order."
      ],
      "metadata": {
        "id": "c_l5HEBHqf4x"
      }
    },
    {
      "cell_type": "code",
      "source": [
        "D[18:0:-1]"
      ],
      "metadata": {
        "id": "Ni6auyCwqJwR"
      },
      "execution_count": null,
      "outputs": []
    },
    {
      "cell_type": "markdown",
      "source": [
        "**3.NumPy array better than List in Python**\n",
        "\n",
        "* NumPy array perform better in Size and takes less space as compared to Python list.In performance-they have need for speed and are faster than lists.Also in functionality NumPy have optimized functions such as linear algebra operations built in."
      ],
      "metadata": {
        "id": "HP88_AF6quku"
      }
    },
    {
      "cell_type": "markdown",
      "source": [
        "**4. Datatypes supported in NumPy**\n",
        "* NumPy has some extra data types, and refer to data types with one character, \n",
        "like i for integers, u for unsigned integers etc.\n",
        "i - integer\n",
        "b - boolean\n",
        "u - unsigned integer\n",
        "f - float\n",
        "c - complex float\n",
        "m - timedelta\n",
        "M - datetime\n",
        "O - object\n",
        "S - string\n",
        "U - unicode string\n",
        "V - fixed chunk of memory for other type ( void )"
      ],
      "metadata": {
        "id": "w3WrbkdFr7ZU"
      }
    }
  ]
}